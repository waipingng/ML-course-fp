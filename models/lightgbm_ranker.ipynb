{
 "cells": [
  {
   "cell_type": "code",
   "execution_count": 10,
   "id": "d376222c",
   "metadata": {},
   "outputs": [],
   "source": [
    "import pandas as pd\n",
    "import numpy as np\n",
    "from lightgbm import LGBMRanker\n",
    "from sklearn.model_selection import train_test_split"
   ]
  },
  {
   "cell_type": "code",
   "execution_count": 11,
   "id": "63936ba1",
   "metadata": {},
   "outputs": [],
   "source": [
    "df = pd.read_csv(\"../data/cleaned_race_results_for_lightgbm.csv\")\n",
    "df = df.sort_values(['race_id', 'finish_position'])"
   ]
  },
  {
   "cell_type": "code",
   "execution_count": 12,
   "id": "240a4f33",
   "metadata": {},
   "outputs": [],
   "source": [
    "features = ['odds', 'horse_weight', 'jockey_weight', 'age', 'final_time']\n",
    "X = df[features]\n",
    "\n",
    "race_ids = df['race_id'].unique()\n",
    "train_races, test_races = train_test_split(race_ids, test_size=0.2, random_state=42)\n",
    "\n",
    "train_df = df[df['race_id'].isin(train_races)]\n",
    "test_df = df[df['race_id'].isin(test_races)]\n",
    "\n",
    "X_train = train_df[features]\n",
    "y_train = 17 - train_df['finish_position']\n",
    "group_train = train_df.groupby('race_id').size().to_list()\n",
    "\n",
    "X_test = test_df[features]\n",
    "y_test = 17 - test_df['finish_position']\n",
    "group_test = test_df.groupby('race_id').size().to_list()"
   ]
  },
  {
   "cell_type": "code",
   "execution_count": 13,
   "id": "5bc230d5",
   "metadata": {},
   "outputs": [
    {
     "name": "stdout",
     "output_type": "stream",
     "text": [
      "[LightGBM] [Info] Auto-choosing col-wise multi-threading, the overhead of testing was 0.001203 seconds.\n",
      "You can set `force_col_wise=true` to remove the overhead.\n",
      "[LightGBM] [Info] Total Bins 639\n",
      "[LightGBM] [Info] Number of data points in the train set: 13040, number of used features: 5\n"
     ]
    },
    {
     "name": "stderr",
     "output_type": "stream",
     "text": [
      "/var/folders/h4/994pp03n5kg8x_b610__2_lm0000gn/T/ipykernel_9390/1111006586.py:20: SettingWithCopyWarning: \n",
      "A value is trying to be set on a copy of a slice from a DataFrame.\n",
      "Try using .loc[row_indexer,col_indexer] = value instead\n",
      "\n",
      "See the caveats in the documentation: https://pandas.pydata.org/pandas-docs/stable/user_guide/indexing.html#returning-a-view-versus-a-copy\n",
      "  test_df['pred_score'] = model.predict(X_test)\n",
      "/var/folders/h4/994pp03n5kg8x_b610__2_lm0000gn/T/ipykernel_9390/1111006586.py:21: SettingWithCopyWarning: \n",
      "A value is trying to be set on a copy of a slice from a DataFrame.\n",
      "Try using .loc[row_indexer,col_indexer] = value instead\n",
      "\n",
      "See the caveats in the documentation: https://pandas.pydata.org/pandas-docs/stable/user_guide/indexing.html#returning-a-view-versus-a-copy\n",
      "  test_df['pred_prob'] = test_df.groupby('race_id')['pred_score'].transform(lambda x: np.exp(x - np.max(x)) / np.sum(np.exp(x - np.max(x))))\n",
      "/var/folders/h4/994pp03n5kg8x_b610__2_lm0000gn/T/ipykernel_9390/1111006586.py:22: SettingWithCopyWarning: \n",
      "A value is trying to be set on a copy of a slice from a DataFrame.\n",
      "Try using .loc[row_indexer,col_indexer] = value instead\n",
      "\n",
      "See the caveats in the documentation: https://pandas.pydata.org/pandas-docs/stable/user_guide/indexing.html#returning-a-view-versus-a-copy\n",
      "  test_df['predicted_rank'] = test_df.groupby('race_id')['pred_prob'].rank(ascending=False, method='first')\n",
      "/var/folders/h4/994pp03n5kg8x_b610__2_lm0000gn/T/ipykernel_9390/1111006586.py:23: DeprecationWarning: DataFrameGroupBy.apply operated on the grouping columns. This behavior is deprecated, and in a future version of pandas the grouping columns will be excluded from the operation. Either pass `include_groups=False` to exclude the groupings or explicitly select the grouping columns after groupby to silence this warning.\n",
      "  top1_preds = test_df.groupby('race_id').apply(lambda g: g.loc[g['pred_prob'].idxmax()])\n"
     ]
    },
    {
     "name": "stdout",
     "output_type": "stream",
     "text": [
      "Params: {'learning_rate': 0.05, 'num_leaves': 31, 'min_child_samples': 20}, Top-1 Accuracy: 0.4167\n",
      "[LightGBM] [Info] Auto-choosing col-wise multi-threading, the overhead of testing was 0.000345 seconds.\n",
      "You can set `force_col_wise=true` to remove the overhead.\n",
      "[LightGBM] [Info] Total Bins 639\n",
      "[LightGBM] [Info] Number of data points in the train set: 13040, number of used features: 5\n"
     ]
    },
    {
     "name": "stderr",
     "output_type": "stream",
     "text": [
      "/var/folders/h4/994pp03n5kg8x_b610__2_lm0000gn/T/ipykernel_9390/1111006586.py:20: SettingWithCopyWarning: \n",
      "A value is trying to be set on a copy of a slice from a DataFrame.\n",
      "Try using .loc[row_indexer,col_indexer] = value instead\n",
      "\n",
      "See the caveats in the documentation: https://pandas.pydata.org/pandas-docs/stable/user_guide/indexing.html#returning-a-view-versus-a-copy\n",
      "  test_df['pred_score'] = model.predict(X_test)\n",
      "/var/folders/h4/994pp03n5kg8x_b610__2_lm0000gn/T/ipykernel_9390/1111006586.py:21: SettingWithCopyWarning: \n",
      "A value is trying to be set on a copy of a slice from a DataFrame.\n",
      "Try using .loc[row_indexer,col_indexer] = value instead\n",
      "\n",
      "See the caveats in the documentation: https://pandas.pydata.org/pandas-docs/stable/user_guide/indexing.html#returning-a-view-versus-a-copy\n",
      "  test_df['pred_prob'] = test_df.groupby('race_id')['pred_score'].transform(lambda x: np.exp(x - np.max(x)) / np.sum(np.exp(x - np.max(x))))\n",
      "/var/folders/h4/994pp03n5kg8x_b610__2_lm0000gn/T/ipykernel_9390/1111006586.py:22: SettingWithCopyWarning: \n",
      "A value is trying to be set on a copy of a slice from a DataFrame.\n",
      "Try using .loc[row_indexer,col_indexer] = value instead\n",
      "\n",
      "See the caveats in the documentation: https://pandas.pydata.org/pandas-docs/stable/user_guide/indexing.html#returning-a-view-versus-a-copy\n",
      "  test_df['predicted_rank'] = test_df.groupby('race_id')['pred_prob'].rank(ascending=False, method='first')\n",
      "/var/folders/h4/994pp03n5kg8x_b610__2_lm0000gn/T/ipykernel_9390/1111006586.py:23: DeprecationWarning: DataFrameGroupBy.apply operated on the grouping columns. This behavior is deprecated, and in a future version of pandas the grouping columns will be excluded from the operation. Either pass `include_groups=False` to exclude the groupings or explicitly select the grouping columns after groupby to silence this warning.\n",
      "  top1_preds = test_df.groupby('race_id').apply(lambda g: g.loc[g['pred_prob'].idxmax()])\n"
     ]
    },
    {
     "name": "stdout",
     "output_type": "stream",
     "text": [
      "Params: {'learning_rate': 0.1, 'num_leaves': 63, 'min_child_samples': 10}, Top-1 Accuracy: 0.4902\n",
      "[LightGBM] [Info] Auto-choosing col-wise multi-threading, the overhead of testing was 0.000293 seconds.\n",
      "You can set `force_col_wise=true` to remove the overhead.\n",
      "[LightGBM] [Info] Total Bins 639\n",
      "[LightGBM] [Info] Number of data points in the train set: 13040, number of used features: 5\n",
      "Params: {'learning_rate': 0.07, 'num_leaves': 40, 'min_child_samples': 15}, Top-1 Accuracy: 0.4412\n"
     ]
    },
    {
     "name": "stderr",
     "output_type": "stream",
     "text": [
      "/var/folders/h4/994pp03n5kg8x_b610__2_lm0000gn/T/ipykernel_9390/1111006586.py:20: SettingWithCopyWarning: \n",
      "A value is trying to be set on a copy of a slice from a DataFrame.\n",
      "Try using .loc[row_indexer,col_indexer] = value instead\n",
      "\n",
      "See the caveats in the documentation: https://pandas.pydata.org/pandas-docs/stable/user_guide/indexing.html#returning-a-view-versus-a-copy\n",
      "  test_df['pred_score'] = model.predict(X_test)\n",
      "/var/folders/h4/994pp03n5kg8x_b610__2_lm0000gn/T/ipykernel_9390/1111006586.py:21: SettingWithCopyWarning: \n",
      "A value is trying to be set on a copy of a slice from a DataFrame.\n",
      "Try using .loc[row_indexer,col_indexer] = value instead\n",
      "\n",
      "See the caveats in the documentation: https://pandas.pydata.org/pandas-docs/stable/user_guide/indexing.html#returning-a-view-versus-a-copy\n",
      "  test_df['pred_prob'] = test_df.groupby('race_id')['pred_score'].transform(lambda x: np.exp(x - np.max(x)) / np.sum(np.exp(x - np.max(x))))\n",
      "/var/folders/h4/994pp03n5kg8x_b610__2_lm0000gn/T/ipykernel_9390/1111006586.py:22: SettingWithCopyWarning: \n",
      "A value is trying to be set on a copy of a slice from a DataFrame.\n",
      "Try using .loc[row_indexer,col_indexer] = value instead\n",
      "\n",
      "See the caveats in the documentation: https://pandas.pydata.org/pandas-docs/stable/user_guide/indexing.html#returning-a-view-versus-a-copy\n",
      "  test_df['predicted_rank'] = test_df.groupby('race_id')['pred_prob'].rank(ascending=False, method='first')\n",
      "/var/folders/h4/994pp03n5kg8x_b610__2_lm0000gn/T/ipykernel_9390/1111006586.py:23: DeprecationWarning: DataFrameGroupBy.apply operated on the grouping columns. This behavior is deprecated, and in a future version of pandas the grouping columns will be excluded from the operation. Either pass `include_groups=False` to exclude the groupings or explicitly select the grouping columns after groupby to silence this warning.\n",
      "  top1_preds = test_df.groupby('race_id').apply(lambda g: g.loc[g['pred_prob'].idxmax()])\n"
     ]
    }
   ],
   "source": [
    "param_sets = [\n",
    "    {'learning_rate': 0.05, 'num_leaves': 31, 'min_child_samples': 20},\n",
    "    {'learning_rate': 0.1, 'num_leaves': 63, 'min_child_samples': 10},\n",
    "    {'learning_rate': 0.07, 'num_leaves': 40, 'min_child_samples': 15},\n",
    "]\n",
    "\n",
    "best_accuracy = 0\n",
    "best_model = None\n",
    "best_test_df = None\n",
    "\n",
    "for params in param_sets:\n",
    "    model = LGBMRanker(\n",
    "        objective='lambdarank',\n",
    "        metric='ndcg',\n",
    "        n_estimators=200,\n",
    "        random_state=42,\n",
    "        **params\n",
    "    )\n",
    "    model.fit(X_train, y_train, group=group_train)\n",
    "    test_df['pred_score'] = model.predict(X_test)\n",
    "    test_df['pred_prob'] = test_df.groupby('race_id')['pred_score'].transform(lambda x: np.exp(x - np.max(x)) / np.sum(np.exp(x - np.max(x))))\n",
    "    test_df['predicted_rank'] = test_df.groupby('race_id')['pred_prob'].rank(ascending=False, method='first')\n",
    "    top1_preds = test_df.groupby('race_id').apply(lambda g: g.loc[g['pred_prob'].idxmax()])\n",
    "    top1_acc = (top1_preds['finish_position'] == 1).mean()\n",
    "    print(f\"Params: {params}, Top-1 Accuracy: {top1_acc:.4f}\")\n",
    "    if top1_acc > best_accuracy:\n",
    "        best_accuracy = top1_acc\n",
    "        best_model = model\n",
    "        best_test_df = test_df.copy()"
   ]
  },
  {
   "cell_type": "code",
   "execution_count": 14,
   "id": "44c33e5e",
   "metadata": {},
   "outputs": [
    {
     "name": "stdout",
     "output_type": "stream",
     "text": [
      "\n",
      "Best Top-1 Accuracy: 0.4902\n"
     ]
    }
   ],
   "source": [
    "results_df = best_test_df[['race_id', 'horse_id', 'finish_position', 'pred_score', 'pred_prob', 'predicted_rank']]\n",
    "results_df.to_csv(\"../data/lightgbm_ranker_results.csv\", index=False)\n",
    "\n",
    "print(f\"\\nBest Top-1 Accuracy: {best_accuracy:.4f}\")"
   ]
  }
 ],
 "metadata": {
  "kernelspec": {
   "display_name": "Python 3",
   "language": "python",
   "name": "python3"
  },
  "language_info": {
   "codemirror_mode": {
    "name": "ipython",
    "version": 3
   },
   "file_extension": ".py",
   "mimetype": "text/x-python",
   "name": "python",
   "nbconvert_exporter": "python",
   "pygments_lexer": "ipython3",
   "version": "3.11.5"
  }
 },
 "nbformat": 4,
 "nbformat_minor": 5
}
